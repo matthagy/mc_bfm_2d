{
 "cells": [
  {
   "cell_type": "code",
   "execution_count": 132,
   "metadata": {
    "collapsed": false
   },
   "outputs": [],
   "source": [
    "import json\n",
    "\n",
    "import numpy as np\n",
    "import matplotlib.pyplot as plt\n",
    "from matplotlib.collections import PatchCollection\n",
    "from matplotlib.patches import Rectangle\n",
    "from matplotlib.lines import Line2D      \n",
    "from tqdm import tqdm\n",
    "\n",
    "import mc_bfm_2d\n",
    "from importlib import reload\n",
    "reload(mc_bfm_2d)\n",
    "\n",
    "%matplotlib inline"
   ]
  },
  {
   "cell_type": "code",
   "execution_count": 138,
   "metadata": {
    "collapsed": false
   },
   "outputs": [],
   "source": [
    "polymers = []\n",
    "for j in range(20):\n",
    "    monomers= [mc_bfm_2d.Monomer([1 + 2*j, 1 + 2*i]) for i in range(8)]\n",
    "    for i in range(len(monomers)-1):\n",
    "        mc_bfm_2d.Bond(monomers[i], monomers[i+1])\n",
    "    polymers.append(mc_bfm_2d.Polymer(monomers))\n",
    "    \n",
    "occlusion = mc_bfm_2d.Occlusion(\n",
    "    sorted(set(\n",
    "        [(x, 0) for x in range(100)] + \n",
    "        [(x, 99) for x in range(100)] +\n",
    "        [(0, y) for y in range(100)] +\n",
    "        [(99, y) for y in range(100)] +\n",
    "        [(x, 50) for x in range(45)] +\n",
    "        [(x, 50) for x in range(55, 100)]\n",
    "    ))\n",
    ")\n",
    "    \n",
    "config = mc_bfm_2d.Configuration(100, 100, polymers, occlusions=[occlusion])"
   ]
  },
  {
   "cell_type": "code",
   "execution_count": 139,
   "metadata": {
    "collapsed": false
   },
   "outputs": [],
   "source": [
    "\n",
    "def plot_config(config):\n",
    "    monomer_boxes = [Rectangle(monomer.lower_right_occupancy, 2, 2)\n",
    "                     for polymer in config.polymers\n",
    "                     for monomer in polymer.monomers]\n",
    "    pc = PatchCollection(monomer_boxes, facecolor='blue', edgecolor='black')\n",
    "    plt.gca().add_collection(pc)\n",
    "    \n",
    "    occlusion_boxes = [Rectangle(site, 1, 1)\n",
    "                       for occlusion in config.occlusions\n",
    "                       for site in occlusion.sites]\n",
    "    pc = PatchCollection(occlusion_boxes, facecolor='grey', edgecolor='grey')\n",
    "    plt.gca().add_collection(pc)\n",
    "\n",
    "    bonds = {bond\n",
    "             for polymer in config.polymers\n",
    "             for monomer in polymer.monomers\n",
    "             for bond in monomer.bonds}\n",
    "    for bond in bonds:\n",
    "        a = bond.a.lower_right_occupancy + np.array([1,1])\n",
    "        b = bond.b.lower_right_occupancy + np.array([1,1])\n",
    "        x, y = np.array([a,b]).T\n",
    "        line = Line2D(x, y, color='red', linewidth=1)\n",
    "        plt.gca().add_line(line)\n",
    "\n",
    "    plt.xlim(0, config.width)\n",
    "    plt.ylim(0, config.height)"
   ]
  },
  {
   "cell_type": "code",
   "execution_count": 140,
   "metadata": {
    "collapsed": false
   },
   "outputs": [
    {
     "data": {
      "image/png": "[encoded data removed]",
      "text/plain": [
       "<Figure size 432x432 with 1 Axes>"
      ]
     },
     "metadata": {},
     "output_type": "display_data"
    }
   ],
   "source": [
    "plt.figure(figsize=(6,6))\n",
    "\n",
    "plot_config(config)"
   ]
  },
  {
   "cell_type": "code",
   "execution_count": 141,
   "metadata": {
    "collapsed": false
   },
   "outputs": [],
   "source": [
    "with open('config0.json', 'wt') as fp:\n",
    "    fp.write(json.dumps(config.to_json()))"
   ]
  },
  {
   "cell_type": "code",
   "execution_count": 127,
   "metadata": {
    "collapsed": false
   },
   "outputs": [],
   "source": [
    "configs = []\n",
    "with open('configs.json', 'rt') as fp:\n",
    "    for line in fp:\n",
    "        json_config = json.loads(line.strip())\n",
    "        configs.append(mc_bfm_2d.Configuration.from_json(json_config))"
   ]
  },
  {
   "cell_type": "code",
   "execution_count": 143,
   "metadata": {
    "collapsed": false
   },
   "outputs": [
    {
     "name": "stderr",
     "output_type": "stream",
     "text": [
      "1000it [15:09,  1.20it/s]\n"
     ]
    },
    {
     "data": {
      "image/png": "[encoded data removed]",
      "text/plain": [
       "<Figure size 432x432 with 1 Axes>"
      ]
     },
     "metadata": {},
     "output_type": "display_data"
    }
   ],
   "source": [
    "plt.figure(figsize=(6,6))\n",
    "\n",
    "with tqdm() as t:\n",
    "    with open('configs.json', 'rt') as fp:\n",
    "        for i,line in enumerate(fp):\n",
    "            json_config = json.loads(line.strip())\n",
    "            config = mc_bfm_2d.Configuration.from_json(json_config)\n",
    "            t.update()\n",
    "            plt.clf()\n",
    "            plot_config(config)\n",
    "            plt.xticks([])\n",
    "            plt.yticks([])\n",
    "            plt.savefig('data/movie0/%05d.png' % i)"
   ]
  },
  {
   "cell_type": "code",
   "execution_count": null,
   "metadata": {
    "collapsed": true
   },
   "outputs": [],
   "source": []
  }
 ],
 "metadata": {
  "kernelspec": {
   "display_name": "Python 3",
   "language": "python",
   "name": "python3"
  },
  "language_info": {
   "codemirror_mode": {
    "name": "ipython",
    "version": 3
   },
   "file_extension": ".py",
   "mimetype": "text/x-python",
   "name": "python",
   "nbconvert_exporter": "python",
   "pygments_lexer": "ipython3",
   "version": "3.6.0"
  }
 },
 "nbformat": 4,
 "nbformat_minor": 2
}
